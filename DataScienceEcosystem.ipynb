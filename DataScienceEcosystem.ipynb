{
 "cells": [
  {
   "cell_type": "markdown",
   "id": "93a1194a-a40c-4a62-97c0-51c17d08819d",
   "metadata": {},
   "source": [
    "# Data Science Tools and Ecosystem"
   ]
  },
  {
   "cell_type": "markdown",
   "id": "59630ae9-08b9-4956-b37c-88dd5f0ff1b6",
   "metadata": {},
   "source": [
    "## Introduction\n",
    "\n",
    "In this notebook, Data Science Tools and Ecosystem are summarized. We will explore various tools, frameworks, and technologies that are commonly used by data scientists to analyze, visualize, and manipulate data."
   ]
  },
  {
   "cell_type": "markdown",
   "id": "a63d39fd-acbc-44bd-87a1-1e4ce9b04eb7",
   "metadata": {},
   "source": [
    "## some of the key takeaways from the course:\n",
    "\n",
    "**Objectives:**\n",
    "\n",
    "- Create markdown cells.\n",
    "- List popular languages for Data Science.\n",
    "- list commonly used Data Science libraries.\n",
    "- Add comments to code cells.\n",
    "- Format content of markdown cells with heading styles."
   ]
  },
  {
   "cell_type": "markdown",
   "id": "ec078c9f-1f24-434f-8c93-1c23bab3729f",
   "metadata": {},
   "source": [
    "## Some of the popular languages that Data Scientists use are:\n",
    "\n",
    "* **Python**\n",
    "* **R**\n",
    "* **SQL**\n",
    "* **Scala**\n",
    "* **Java**\n",
    "* **C++**\n",
    "* **Julia**\n",
    "* **JavaScript**\n",
    "* **PHP**\n",
    "* **Go**\n",
    "* **Ruby**\n",
    "* **Visual Basic**"
   ]
  },
  {
   "cell_type": "markdown",
   "id": "a809556d-637f-45f2-948d-6ff5e152196e",
   "metadata": {},
   "source": [
    "## Some of the commonly used libraries used by Data Scientists include:\n",
    "\n",
    "* **Pandas**\n",
    "* **NumPy**\n",
    "* **Matplotlib**\n",
    "* **Seaborn**\n",
    "* **Scikit-learn**\n",
    "* **Keras**\n",
    "* **TensorFlow**\n",
    "* **PyTorch**\n",
    "* **Apache Spark**\n",
    "* **Vegas**\n",
    "* **Big DL**\n",
    "* **Ggplot2**"
   ]
  },
  {
   "cell_type": "markdown",
   "id": "8abd9e2d-0717-45f0-a2b3-b680fa33acd3",
   "metadata": {},
   "source": [
    "## Data Science Tools\n",
    "\n",
    "| Data Science Tools            |\n",
    "|-------------------------------|\n",
    "| Anaconda                      |\n",
    "| Jupyter Notebook              |\n",
    "| RStudio                       |\n"
   ]
  },
  {
   "cell_type": "markdown",
   "id": "21871eac-6b0d-4238-bd8a-090c918a8635",
   "metadata": {},
   "source": [
    "### Below are a few examples of evaluating arithmetic expressions in Python:\n"
   ]
  },
  {
   "cell_type": "code",
   "execution_count": 5,
   "id": "9d4588b7-5f63-46c8-b7e9-a2557746bcb1",
   "metadata": {},
   "outputs": [
    {
     "data": {
      "text/plain": [
       "17"
      ]
     },
     "execution_count": 5,
     "metadata": {},
     "output_type": "execute_result"
    }
   ],
   "source": [
    "# This a simple arithmetic expression to mutiply then add integers.\n",
    "(3 * 4) + 5"
   ]
  },
  {
   "cell_type": "code",
   "execution_count": 6,
   "id": "1a6336e0-efdb-433f-9270-eb1b123b1248",
   "metadata": {},
   "outputs": [
    {
     "name": "stdout",
     "output_type": "stream",
     "text": [
      "3.3333333333333335\n"
     ]
    }
   ],
   "source": [
    "# This will convert 200 minutes to hours by dividing by 60.\n",
    "minutes = 200\n",
    "hours = minutes / 60\n",
    "print(hours)\n"
   ]
  },
  {
   "cell_type": "markdown",
   "id": "a507f3ec-51d1-4ef1-b744-46f4a39a9315",
   "metadata": {},
   "source": [
    "## Author\n",
    "Nazanin Haerian"
   ]
  }
 ],
 "metadata": {
  "kernelspec": {
   "display_name": "Python 3 (ipykernel)",
   "language": "python",
   "name": "python3"
  },
  "language_info": {
   "codemirror_mode": {
    "name": "ipython",
    "version": 3
   },
   "file_extension": ".py",
   "mimetype": "text/x-python",
   "name": "python",
   "nbconvert_exporter": "python",
   "pygments_lexer": "ipython3",
   "version": "3.11.5"
  }
 },
 "nbformat": 4,
 "nbformat_minor": 5
}
